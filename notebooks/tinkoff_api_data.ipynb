{
 "cells": [
  {
   "cell_type": "code",
   "execution_count": 1,
   "id": "505fc0de-f7e3-4b53-a717-898aaceb2b6a",
   "metadata": {},
   "outputs": [],
   "source": [
    "import sys\n",
    "sys.path.insert(0, '..')"
   ]
  },
  {
   "cell_type": "code",
   "execution_count": 5,
   "id": "16f7de96-99b0-4e3d-b041-a145e22e5d66",
   "metadata": {},
   "outputs": [],
   "source": [
    "import os\n",
    "import datetime\n",
    "import pandas as pd\n",
    "import numpy as np\n",
    "from tinkoff.invest import Client\n",
    "from tinkoff.invest import CandleInterval, Client\n",
    "from tinkoff.invest.schemas import InstrumentStatus, InstrumentExchangeType\n",
    "from src.tinkoff_convert import _dataclass_to_dict, _dataclasses_to_dict\n",
    "from src.tinkoff_api import get_prices_sync, get_dividends_async, get_raw_positions, get_raw_portfolio\n",
    "from robot import PortfolioManager\n",
    "from execution import MockManager\n",
    "from enum import IntEnum"
   ]
  },
  {
   "cell_type": "code",
   "execution_count": 3,
   "id": "71ff4b36-3386-4005-9b24-a352c5f40706",
   "metadata": {},
   "outputs": [],
   "source": [
    "TOKEN = os.environ[\"TINVEST_READ\"]"
   ]
  },
  {
   "cell_type": "code",
   "execution_count": 4,
   "id": "60bf2830-2b5d-4ca3-83c4-099c0bca0594",
   "metadata": {
    "scrolled": true
   },
   "outputs": [],
   "source": [
    "with Client(TOKEN) as client:\n",
    "    # shares_arr = client.instruments.shares(instrument_status = InstrumentStatus.INSTRUMENT_STATUS_ALL)\n",
    "    # assets_resp = client.instruments.get_assets()\n",
    "    # asset_resp = client.instruments.get_asset_by(id = '94f18cc6-9e01-4db6-9d73-8c3ba6ab9655')\n",
    "    accs = client.users.get_accounts()\n",
    "    portfolio = get_raw_portfolio(account_id='2169054877', token=TOKEN)\n",
    "    positions = get_raw_positions(account_id='2169054877', token=TOKEN)"
   ]
  },
  {
   "cell_type": "code",
   "execution_count": 12,
   "id": "82af38c0-0b1e-41d8-8c21-7dcde5e62018",
   "metadata": {},
   "outputs": [],
   "source": [
    "portfolio_df = pd.DataFrame(_dataclasses_to_dict(portfolio.positions))"
   ]
  },
  {
   "cell_type": "code",
   "execution_count": 6,
   "id": "9692b751-f941-4c22-bb56-b873c7e64a53",
   "metadata": {
    "scrolled": true
   },
   "outputs": [
    {
     "data": {
      "text/html": [
       "<div>\n",
       "<style scoped>\n",
       "    .dataframe tbody tr th:only-of-type {\n",
       "        vertical-align: middle;\n",
       "    }\n",
       "\n",
       "    .dataframe tbody tr th {\n",
       "        vertical-align: top;\n",
       "    }\n",
       "\n",
       "    .dataframe thead th {\n",
       "        text-align: right;\n",
       "    }\n",
       "</style>\n",
       "<table border=\"1\" class=\"dataframe\">\n",
       "  <thead>\n",
       "    <tr style=\"text-align: right;\">\n",
       "      <th></th>\n",
       "      <th>figi</th>\n",
       "      <th>blocked</th>\n",
       "      <th>balance</th>\n",
       "      <th>position_uid</th>\n",
       "      <th>instrument_uid</th>\n",
       "      <th>exchange_blocked</th>\n",
       "      <th>instrument_type</th>\n",
       "    </tr>\n",
       "  </thead>\n",
       "  <tbody>\n",
       "    <tr>\n",
       "      <th>0</th>\n",
       "      <td>BBG00N8J90K7</td>\n",
       "      <td>0</td>\n",
       "      <td>6</td>\n",
       "      <td>a0e2bd0d-2782-4836-b547-0f591d98ba93</td>\n",
       "      <td>c355adac-9536-4aed-a09f-15bc4e99d4b5</td>\n",
       "      <td>False</td>\n",
       "      <td>bond</td>\n",
       "    </tr>\n",
       "    <tr>\n",
       "      <th>1</th>\n",
       "      <td>BBG013RTHWK8</td>\n",
       "      <td>0</td>\n",
       "      <td>200</td>\n",
       "      <td>8186b92b-62b2-42ad-96c2-6158566a1e7d</td>\n",
       "      <td>49ddaef5-13e8-48fb-b16f-7f940f475151</td>\n",
       "      <td>False</td>\n",
       "      <td>etf</td>\n",
       "    </tr>\n",
       "    <tr>\n",
       "      <th>2</th>\n",
       "      <td>TCS00A103D37</td>\n",
       "      <td>0</td>\n",
       "      <td>173</td>\n",
       "      <td>461af849-8476-4900-bc59-60f1af729eba</td>\n",
       "      <td>dfbb0ff1-67cc-410e-bfe8-6a62d845b50c</td>\n",
       "      <td>False</td>\n",
       "      <td>bond</td>\n",
       "    </tr>\n",
       "    <tr>\n",
       "      <th>3</th>\n",
       "      <td>BBG00B9PJ7V0</td>\n",
       "      <td>0</td>\n",
       "      <td>4</td>\n",
       "      <td>8a37365a-8fe3-4fcb-93e0-924ef984e3cc</td>\n",
       "      <td>a29f7dc2-1eed-4db8-a14d-bf1f5d881ab4</td>\n",
       "      <td>False</td>\n",
       "      <td>bond</td>\n",
       "    </tr>\n",
       "    <tr>\n",
       "      <th>4</th>\n",
       "      <td>BBG00XH4W3N3</td>\n",
       "      <td>0</td>\n",
       "      <td>13</td>\n",
       "      <td>2c354d2c-98d0-4705-8370-92e604e31ece</td>\n",
       "      <td>2dd3b003-aca2-4920-89ce-8d827c637372</td>\n",
       "      <td>False</td>\n",
       "      <td>bond</td>\n",
       "    </tr>\n",
       "    <tr>\n",
       "      <th>5</th>\n",
       "      <td>BBG004730N88</td>\n",
       "      <td>0</td>\n",
       "      <td>100</td>\n",
       "      <td>41eb2102-5333-4713-bf15-72b204c4bf7b</td>\n",
       "      <td>e6123145-9665-43e0-8413-cd61b8aa9b13</td>\n",
       "      <td>False</td>\n",
       "      <td>share</td>\n",
       "    </tr>\n",
       "    <tr>\n",
       "      <th>6</th>\n",
       "      <td>BBG011616RM7</td>\n",
       "      <td>0</td>\n",
       "      <td>10</td>\n",
       "      <td>80edfa26-c0a8-41ea-9d9c-216fd34c6f22</td>\n",
       "      <td>ea070157-241a-4b42-9d85-a17f01fdb936</td>\n",
       "      <td>False</td>\n",
       "      <td>bond</td>\n",
       "    </tr>\n",
       "    <tr>\n",
       "      <th>7</th>\n",
       "      <td>BBG00Y90V3M0</td>\n",
       "      <td>0</td>\n",
       "      <td>1</td>\n",
       "      <td>8fd0ca97-edd8-4ed2-b3bc-d443dea8789b</td>\n",
       "      <td>32decb51-bd31-461e-8f87-fa7ecff82952</td>\n",
       "      <td>False</td>\n",
       "      <td>bond</td>\n",
       "    </tr>\n",
       "    <tr>\n",
       "      <th>8</th>\n",
       "      <td>BBG011MDBQV9</td>\n",
       "      <td>0</td>\n",
       "      <td>7</td>\n",
       "      <td>1acc547f-f8b6-486d-a0ca-f2bd9d092d09</td>\n",
       "      <td>44d709e2-a362-417d-92e3-36996f45b747</td>\n",
       "      <td>False</td>\n",
       "      <td>bond</td>\n",
       "    </tr>\n",
       "    <tr>\n",
       "      <th>9</th>\n",
       "      <td>BBG333333333</td>\n",
       "      <td>0</td>\n",
       "      <td>500</td>\n",
       "      <td>29888afc-181d-45ed-a00b-8fe55a9cec9b</td>\n",
       "      <td>9654c2dd-6993-427e-80fa-04e80a1cf4da</td>\n",
       "      <td>False</td>\n",
       "      <td>etf</td>\n",
       "    </tr>\n",
       "  </tbody>\n",
       "</table>\n",
       "</div>"
      ],
      "text/plain": [
       "           figi  blocked  balance                          position_uid  \\\n",
       "0  BBG00N8J90K7        0        6  a0e2bd0d-2782-4836-b547-0f591d98ba93   \n",
       "1  BBG013RTHWK8        0      200  8186b92b-62b2-42ad-96c2-6158566a1e7d   \n",
       "2  TCS00A103D37        0      173  461af849-8476-4900-bc59-60f1af729eba   \n",
       "3  BBG00B9PJ7V0        0        4  8a37365a-8fe3-4fcb-93e0-924ef984e3cc   \n",
       "4  BBG00XH4W3N3        0       13  2c354d2c-98d0-4705-8370-92e604e31ece   \n",
       "5  BBG004730N88        0      100  41eb2102-5333-4713-bf15-72b204c4bf7b   \n",
       "6  BBG011616RM7        0       10  80edfa26-c0a8-41ea-9d9c-216fd34c6f22   \n",
       "7  BBG00Y90V3M0        0        1  8fd0ca97-edd8-4ed2-b3bc-d443dea8789b   \n",
       "8  BBG011MDBQV9        0        7  1acc547f-f8b6-486d-a0ca-f2bd9d092d09   \n",
       "9  BBG333333333        0      500  29888afc-181d-45ed-a00b-8fe55a9cec9b   \n",
       "\n",
       "                         instrument_uid  exchange_blocked instrument_type  \n",
       "0  c355adac-9536-4aed-a09f-15bc4e99d4b5             False            bond  \n",
       "1  49ddaef5-13e8-48fb-b16f-7f940f475151             False             etf  \n",
       "2  dfbb0ff1-67cc-410e-bfe8-6a62d845b50c             False            bond  \n",
       "3  a29f7dc2-1eed-4db8-a14d-bf1f5d881ab4             False            bond  \n",
       "4  2dd3b003-aca2-4920-89ce-8d827c637372             False            bond  \n",
       "5  e6123145-9665-43e0-8413-cd61b8aa9b13             False           share  \n",
       "6  ea070157-241a-4b42-9d85-a17f01fdb936             False            bond  \n",
       "7  32decb51-bd31-461e-8f87-fa7ecff82952             False            bond  \n",
       "8  44d709e2-a362-417d-92e3-36996f45b747             False            bond  \n",
       "9  9654c2dd-6993-427e-80fa-04e80a1cf4da             False             etf  "
      ]
     },
     "execution_count": 6,
     "metadata": {},
     "output_type": "execute_result"
    }
   ],
   "source": [
    "positions_df = pd.DataFrame(_dataclasses_to_dict(positions.securities))\n",
    "positions_df"
   ]
  },
  {
   "cell_type": "code",
   "execution_count": 15,
   "id": "0427b129-fbd4-4e3a-a3bf-87108cc2e0ca",
   "metadata": {
    "scrolled": true
   },
   "outputs": [],
   "source": [
    "pd.DataFrame(portfolio_dict).to_csv('portfolio.csv', index = False)\n",
    "positions_df.to_csv('positions.csv', index = False)"
   ]
  },
  {
   "cell_type": "code",
   "execution_count": 4,
   "id": "d7f6c496-6004-456f-943c-61676a8aa6b4",
   "metadata": {},
   "outputs": [],
   "source": [
    "portfolio_df = pd.read_csv('../portfolio.csv')\n",
    "portfolio_df['lot'] = portfolio_df.eval('quantity/quantity_lots').astype('int')\n",
    "positions_df = pd.read_csv('positions.csv')"
   ]
  },
  {
   "cell_type": "code",
   "execution_count": 6,
   "id": "0caead77-f96c-4d51-8899-ce7ad5898aa3",
   "metadata": {},
   "outputs": [],
   "source": [
    "order_manager = MockManager('../data/operations.duckdb')\n",
    "manager = PortfolioManager(order_manager, path_db='../data/main.duckdb')"
   ]
  },
  {
   "cell_type": "code",
   "execution_count": 7,
   "id": "cb404308-04dc-43f7-b855-49b69751600a",
   "metadata": {},
   "outputs": [],
   "source": [
    "target_weights = manager.allocate(datetime.datetime.now(), imoex_content='../data/imoex_content.xlsx')"
   ]
  },
  {
   "cell_type": "code",
   "execution_count": 8,
   "id": "dd2d0b91-d91e-451b-a89a-c881beb78c84",
   "metadata": {
    "scrolled": true
   },
   "outputs": [],
   "source": [
    "# res = manager.prepare_positions(positions_df.rename(columns = {'balance': 'quantity'}), target_weights)\n",
    "res = manager.prepare_positions(portfolio_df[['figi', 'instrument_type', 'quantity', 'current_price', 'lot']],\n",
    "                                target_weights)\n",
    "res['instrument_type'] = res['instrument_type'].fillna('share')"
   ]
  },
  {
   "cell_type": "code",
   "execution_count": 17,
   "id": "d8026d5f-63bc-41f8-8696-0cbba4e92ed7",
   "metadata": {},
   "outputs": [],
   "source": [
    "positions = res.reset_index().to_dict('records')"
   ]
  },
  {
   "cell_type": "code",
   "execution_count": 20,
   "id": "55638124-b690-4ce9-8864-3348af9e3209",
   "metadata": {},
   "outputs": [
    {
     "data": {
      "text/plain": [
       "{'index': 'BBG004730N88',\n",
       " 'instrument_type': 'share',\n",
       " 'quantity': 100.0,\n",
       " 'current_price': 249.23,\n",
       " 'lot': 10.0,\n",
       " 'ticker': 'SBER',\n",
       " 'market_value': 24923.0,\n",
       " 'weight': 0.3394389794577322,\n",
       " 'target_weight': 0.02245709457888359,\n",
       " 'delta_weight': -0.3169818848788486,\n",
       " 'target_market_value': 1648.8918540930586,\n",
       " 'delta_market_value': -23274.108145906943,\n",
       " 'delta_quantity_for_order': -9}"
      ]
     },
     "execution_count": 20,
     "metadata": {},
     "output_type": "execute_result"
    }
   ],
   "source": [
    "position"
   ]
  },
  {
   "cell_type": "code",
   "execution_count": 23,
   "id": "794687b4-c09f-4fe7-a7af-8064328e9ee7",
   "metadata": {
    "collapsed": true,
    "jupyter": {
     "outputs_hidden": true
    },
    "scrolled": true
   },
   "outputs": [
    {
     "data": {
      "text/html": [
       "<div>\n",
       "<style scoped>\n",
       "    .dataframe tbody tr th:only-of-type {\n",
       "        vertical-align: middle;\n",
       "    }\n",
       "\n",
       "    .dataframe tbody tr th {\n",
       "        vertical-align: top;\n",
       "    }\n",
       "\n",
       "    .dataframe thead th {\n",
       "        text-align: right;\n",
       "    }\n",
       "</style>\n",
       "<table border=\"1\" class=\"dataframe\">\n",
       "  <thead>\n",
       "    <tr style=\"text-align: right;\">\n",
       "      <th></th>\n",
       "      <th>figi</th>\n",
       "      <th>quantity</th>\n",
       "      <th>price</th>\n",
       "      <th>direction</th>\n",
       "      <th>account_id</th>\n",
       "      <th>order_type</th>\n",
       "      <th>order_id</th>\n",
       "      <th>record_dtime</th>\n",
       "    </tr>\n",
       "  </thead>\n",
       "  <tbody>\n",
       "    <tr>\n",
       "      <th>0</th>\n",
       "      <td>BBG004730N88</td>\n",
       "      <td>9</td>\n",
       "      <td>249.229996</td>\n",
       "      <td>2</td>\n",
       "      <td>test</td>\n",
       "      <td>1</td>\n",
       "      <td>b76e09bc-d145-4095-8739-d6b796fceb85</td>\n",
       "      <td>2024-11-18 23:21:20.724629</td>\n",
       "    </tr>\n",
       "    <tr>\n",
       "      <th>1</th>\n",
       "      <td>TCS00A103D37</td>\n",
       "      <td>173</td>\n",
       "      <td>96.192688</td>\n",
       "      <td>2</td>\n",
       "      <td>test</td>\n",
       "      <td>1</td>\n",
       "      <td>0044cf26-808e-47fc-8c77-c3b9b654856c</td>\n",
       "      <td>2024-11-18 23:21:20.780242</td>\n",
       "    </tr>\n",
       "    <tr>\n",
       "      <th>2</th>\n",
       "      <td>BBG00XH4W3N3</td>\n",
       "      <td>13</td>\n",
       "      <td>567.000000</td>\n",
       "      <td>2</td>\n",
       "      <td>test</td>\n",
       "      <td>1</td>\n",
       "      <td>1408ad95-828f-4acb-a9a7-ccd489dbf51f</td>\n",
       "      <td>2024-11-18 23:21:20.811123</td>\n",
       "    </tr>\n",
       "    <tr>\n",
       "      <th>3</th>\n",
       "      <td>BBG011616RM7</td>\n",
       "      <td>10</td>\n",
       "      <td>713.200012</td>\n",
       "      <td>2</td>\n",
       "      <td>test</td>\n",
       "      <td>1</td>\n",
       "      <td>a1c1422a-95b7-4939-837d-b184c1359c5b</td>\n",
       "      <td>2024-11-18 23:21:20.840825</td>\n",
       "    </tr>\n",
       "    <tr>\n",
       "      <th>4</th>\n",
       "      <td>BBG00N8J90K7</td>\n",
       "      <td>6</td>\n",
       "      <td>821.099976</td>\n",
       "      <td>2</td>\n",
       "      <td>test</td>\n",
       "      <td>1</td>\n",
       "      <td>130f9902-0717-4b1a-b24f-f86dcefa979f</td>\n",
       "      <td>2024-11-18 23:21:20.870883</td>\n",
       "    </tr>\n",
       "    <tr>\n",
       "      <th>5</th>\n",
       "      <td>BBG011MDBQV9</td>\n",
       "      <td>7</td>\n",
       "      <td>701.299988</td>\n",
       "      <td>2</td>\n",
       "      <td>test</td>\n",
       "      <td>1</td>\n",
       "      <td>66d76a8b-a05f-47db-b7df-a3cf5c8025d5</td>\n",
       "      <td>2024-11-18 23:21:20.898407</td>\n",
       "    </tr>\n",
       "    <tr>\n",
       "      <th>6</th>\n",
       "      <td>BBG333333333</td>\n",
       "      <td>500</td>\n",
       "      <td>5.910000</td>\n",
       "      <td>2</td>\n",
       "      <td>test</td>\n",
       "      <td>1</td>\n",
       "      <td>f2ebcab4-2151-413e-9cbc-fce2eb3b7e36</td>\n",
       "      <td>2024-11-18 23:21:20.923236</td>\n",
       "    </tr>\n",
       "    <tr>\n",
       "      <th>7</th>\n",
       "      <td>BBG00B9PJ7V0</td>\n",
       "      <td>4</td>\n",
       "      <td>669.989990</td>\n",
       "      <td>2</td>\n",
       "      <td>test</td>\n",
       "      <td>1</td>\n",
       "      <td>77b28a3c-3d6a-44a5-b549-119458485338</td>\n",
       "      <td>2024-11-18 23:21:20.948329</td>\n",
       "    </tr>\n",
       "    <tr>\n",
       "      <th>8</th>\n",
       "      <td>BBG013RTHWK8</td>\n",
       "      <td>200</td>\n",
       "      <td>8.112000</td>\n",
       "      <td>2</td>\n",
       "      <td>test</td>\n",
       "      <td>1</td>\n",
       "      <td>c2cc4002-0b03-4baf-8241-c34f8cfdc139</td>\n",
       "      <td>2024-11-18 23:21:20.973000</td>\n",
       "    </tr>\n",
       "    <tr>\n",
       "      <th>9</th>\n",
       "      <td>BBG00Y90V3M0</td>\n",
       "      <td>1</td>\n",
       "      <td>263.700012</td>\n",
       "      <td>2</td>\n",
       "      <td>test</td>\n",
       "      <td>1</td>\n",
       "      <td>a64a240b-d48f-4628-a3c8-0c53f843d1c2</td>\n",
       "      <td>2024-11-18 23:21:20.998474</td>\n",
       "    </tr>\n",
       "    <tr>\n",
       "      <th>10</th>\n",
       "      <td>BBG004RVFFC0</td>\n",
       "      <td>5</td>\n",
       "      <td>536.000000</td>\n",
       "      <td>1</td>\n",
       "      <td>test</td>\n",
       "      <td>1</td>\n",
       "      <td>0ce259e5-428f-45b6-a1c3-4b5ef0b17830</td>\n",
       "      <td>2024-11-18 23:21:21.023759</td>\n",
       "    </tr>\n",
       "    <tr>\n",
       "      <th>11</th>\n",
       "      <td>BBG004S68C39</td>\n",
       "      <td>5</td>\n",
       "      <td>702.200012</td>\n",
       "      <td>1</td>\n",
       "      <td>test</td>\n",
       "      <td>1</td>\n",
       "      <td>992eb954-a87d-4b89-b529-35b72d0d8651</td>\n",
       "      <td>2024-11-18 23:21:21.048837</td>\n",
       "    </tr>\n",
       "    <tr>\n",
       "      <th>12</th>\n",
       "      <td>BBG004S68829</td>\n",
       "      <td>8</td>\n",
       "      <td>535.599976</td>\n",
       "      <td>1</td>\n",
       "      <td>test</td>\n",
       "      <td>1</td>\n",
       "      <td>9b79b94a-7042-4dba-8bd8-6f9c165463d3</td>\n",
       "      <td>2024-11-18 23:21:21.073780</td>\n",
       "    </tr>\n",
       "    <tr>\n",
       "      <th>13</th>\n",
       "      <td>BBG004730JJ5</td>\n",
       "      <td>2</td>\n",
       "      <td>187.660004</td>\n",
       "      <td>1</td>\n",
       "      <td>test</td>\n",
       "      <td>1</td>\n",
       "      <td>bae00389-18b9-4ec6-9e2d-410321e79449</td>\n",
       "      <td>2024-11-18 23:21:21.098559</td>\n",
       "    </tr>\n",
       "    <tr>\n",
       "      <th>14</th>\n",
       "      <td>BBG00475KHX6</td>\n",
       "      <td>5</td>\n",
       "      <td>1242.500000</td>\n",
       "      <td>1</td>\n",
       "      <td>test</td>\n",
       "      <td>1</td>\n",
       "      <td>9c17ab7d-b9e6-4061-a9ef-831da42bd1b6</td>\n",
       "      <td>2024-11-18 23:21:21.132169</td>\n",
       "    </tr>\n",
       "    <tr>\n",
       "      <th>15</th>\n",
       "      <td>BBG004S68758</td>\n",
       "      <td>5</td>\n",
       "      <td>2220.500000</td>\n",
       "      <td>1</td>\n",
       "      <td>test</td>\n",
       "      <td>1</td>\n",
       "      <td>9ab78ab5-6ee5-4467-8a30-c881dfa3ed8c</td>\n",
       "      <td>2024-11-18 23:21:21.159776</td>\n",
       "    </tr>\n",
       "    <tr>\n",
       "      <th>16</th>\n",
       "      <td>BBG004S681M2</td>\n",
       "      <td>26</td>\n",
       "      <td>55.029999</td>\n",
       "      <td>1</td>\n",
       "      <td>test</td>\n",
       "      <td>1</td>\n",
       "      <td>efd7c85d-5ed1-4842-9f45-2d793346bfee</td>\n",
       "      <td>2024-11-18 23:21:21.184775</td>\n",
       "    </tr>\n",
       "    <tr>\n",
       "      <th>17</th>\n",
       "      <td>BBG000QJW156</td>\n",
       "      <td>4</td>\n",
       "      <td>335.179993</td>\n",
       "      <td>1</td>\n",
       "      <td>test</td>\n",
       "      <td>1</td>\n",
       "      <td>18af94a8-9440-4a21-9178-7f9536b5e72d</td>\n",
       "      <td>2024-11-18 23:21:21.214027</td>\n",
       "    </tr>\n",
       "  </tbody>\n",
       "</table>\n",
       "</div>"
      ],
      "text/plain": [
       "            figi  quantity        price  direction account_id  order_type  \\\n",
       "0   BBG004730N88         9   249.229996          2       test           1   \n",
       "1   TCS00A103D37       173    96.192688          2       test           1   \n",
       "2   BBG00XH4W3N3        13   567.000000          2       test           1   \n",
       "3   BBG011616RM7        10   713.200012          2       test           1   \n",
       "4   BBG00N8J90K7         6   821.099976          2       test           1   \n",
       "5   BBG011MDBQV9         7   701.299988          2       test           1   \n",
       "6   BBG333333333       500     5.910000          2       test           1   \n",
       "7   BBG00B9PJ7V0         4   669.989990          2       test           1   \n",
       "8   BBG013RTHWK8       200     8.112000          2       test           1   \n",
       "9   BBG00Y90V3M0         1   263.700012          2       test           1   \n",
       "10  BBG004RVFFC0         5   536.000000          1       test           1   \n",
       "11  BBG004S68C39         5   702.200012          1       test           1   \n",
       "12  BBG004S68829         8   535.599976          1       test           1   \n",
       "13  BBG004730JJ5         2   187.660004          1       test           1   \n",
       "14  BBG00475KHX6         5  1242.500000          1       test           1   \n",
       "15  BBG004S68758         5  2220.500000          1       test           1   \n",
       "16  BBG004S681M2        26    55.029999          1       test           1   \n",
       "17  BBG000QJW156         4   335.179993          1       test           1   \n",
       "\n",
       "                                order_id               record_dtime  \n",
       "0   b76e09bc-d145-4095-8739-d6b796fceb85 2024-11-18 23:21:20.724629  \n",
       "1   0044cf26-808e-47fc-8c77-c3b9b654856c 2024-11-18 23:21:20.780242  \n",
       "2   1408ad95-828f-4acb-a9a7-ccd489dbf51f 2024-11-18 23:21:20.811123  \n",
       "3   a1c1422a-95b7-4939-837d-b184c1359c5b 2024-11-18 23:21:20.840825  \n",
       "4   130f9902-0717-4b1a-b24f-f86dcefa979f 2024-11-18 23:21:20.870883  \n",
       "5   66d76a8b-a05f-47db-b7df-a3cf5c8025d5 2024-11-18 23:21:20.898407  \n",
       "6   f2ebcab4-2151-413e-9cbc-fce2eb3b7e36 2024-11-18 23:21:20.923236  \n",
       "7   77b28a3c-3d6a-44a5-b549-119458485338 2024-11-18 23:21:20.948329  \n",
       "8   c2cc4002-0b03-4baf-8241-c34f8cfdc139 2024-11-18 23:21:20.973000  \n",
       "9   a64a240b-d48f-4628-a3c8-0c53f843d1c2 2024-11-18 23:21:20.998474  \n",
       "10  0ce259e5-428f-45b6-a1c3-4b5ef0b17830 2024-11-18 23:21:21.023759  \n",
       "11  992eb954-a87d-4b89-b529-35b72d0d8651 2024-11-18 23:21:21.048837  \n",
       "12  9b79b94a-7042-4dba-8bd8-6f9c165463d3 2024-11-18 23:21:21.073780  \n",
       "13  bae00389-18b9-4ec6-9e2d-410321e79449 2024-11-18 23:21:21.098559  \n",
       "14  9c17ab7d-b9e6-4061-a9ef-831da42bd1b6 2024-11-18 23:21:21.132169  \n",
       "15  9ab78ab5-6ee5-4467-8a30-c881dfa3ed8c 2024-11-18 23:21:21.159776  \n",
       "16  efd7c85d-5ed1-4842-9f45-2d793346bfee 2024-11-18 23:21:21.184775  \n",
       "17  18af94a8-9440-4a21-9178-7f9536b5e72d 2024-11-18 23:21:21.214027  "
      ]
     },
     "execution_count": 23,
     "metadata": {},
     "output_type": "execute_result"
    }
   ],
   "source": [
    "import duckdb\n",
    "with duckdb.connect(\"../data/operations.duckdb\") as conn:\n",
    "    order_df = conn.sql(\"SELECT * FROM order_history\").df()\n",
    "order_df"
   ]
  },
  {
   "cell_type": "code",
   "execution_count": 15,
   "id": "7b03e657-b3dd-421c-ad7f-9fc8e03e97e5",
   "metadata": {
    "scrolled": true
   },
   "outputs": [
    {
     "data": {
      "text/html": [
       "<div>\n",
       "<style scoped>\n",
       "    .dataframe tbody tr th:only-of-type {\n",
       "        vertical-align: middle;\n",
       "    }\n",
       "\n",
       "    .dataframe tbody tr th {\n",
       "        vertical-align: top;\n",
       "    }\n",
       "\n",
       "    .dataframe thead tr th {\n",
       "        text-align: left;\n",
       "    }\n",
       "\n",
       "    .dataframe thead tr:last-of-type th {\n",
       "        text-align: right;\n",
       "    }\n",
       "</style>\n",
       "<table border=\"1\" class=\"dataframe\">\n",
       "  <thead>\n",
       "    <tr>\n",
       "      <th></th>\n",
       "      <th colspan=\"3\" halign=\"left\">delta_quantity_for_order</th>\n",
       "    </tr>\n",
       "    <tr>\n",
       "      <th></th>\n",
       "      <th>long</th>\n",
       "      <th>short</th>\n",
       "      <th>hold</th>\n",
       "    </tr>\n",
       "    <tr>\n",
       "      <th>instrument_type</th>\n",
       "      <th></th>\n",
       "      <th></th>\n",
       "      <th></th>\n",
       "    </tr>\n",
       "  </thead>\n",
       "  <tbody>\n",
       "    <tr>\n",
       "      <th>bond</th>\n",
       "      <td>0</td>\n",
       "      <td>7</td>\n",
       "      <td>0</td>\n",
       "    </tr>\n",
       "    <tr>\n",
       "      <th>etf</th>\n",
       "      <td>0</td>\n",
       "      <td>2</td>\n",
       "      <td>0</td>\n",
       "    </tr>\n",
       "    <tr>\n",
       "      <th>share</th>\n",
       "      <td>10</td>\n",
       "      <td>1</td>\n",
       "      <td>0</td>\n",
       "    </tr>\n",
       "  </tbody>\n",
       "</table>\n",
       "</div>"
      ],
      "text/plain": [
       "                delta_quantity_for_order           \n",
       "                                    long short hold\n",
       "instrument_type                                    \n",
       "bond                                   0     7    0\n",
       "etf                                    0     2    0\n",
       "share                                 10     1    0"
      ]
     },
     "execution_count": 15,
     "metadata": {},
     "output_type": "execute_result"
    }
   ],
   "source": [
    "res.groupby('instrument_type').agg({'delta_quantity_for_order': [\n",
    "    ('long',  lambda x: (x > 0).sum()), \n",
    "    ('short',  lambda x: (x < 0).sum()),\n",
    "    ('hold', lambda x: (x == 0).sum())]})"
   ]
  },
  {
   "cell_type": "markdown",
   "id": "00b69031-7778-46c8-9919-00187c04da64",
   "metadata": {
    "jp-MarkdownHeadingCollapsed": true
   },
   "source": [
    "## src lib"
   ]
  },
  {
   "cell_type": "code",
   "execution_count": 13,
   "id": "0b019834-98d9-4656-b658-7ea9f250ef92",
   "metadata": {},
   "outputs": [
    {
     "data": {
      "text/plain": [
       "83"
      ]
     },
     "execution_count": 13,
     "metadata": {},
     "output_type": "execute_result"
    }
   ],
   "source": [
    "with open(\"../figi.txt\", 'r') as f:\n",
    "    figis = f.read().split('\\n')\n",
    "len(figis)"
   ]
  },
  {
   "cell_type": "code",
   "execution_count": 20,
   "id": "6a6ba157-710f-49a7-a2f8-e8f5ed63875e",
   "metadata": {},
   "outputs": [],
   "source": [
    "div_data.to_csv('div_data.csv', index = False)"
   ]
  },
  {
   "cell_type": "code",
   "execution_count": 17,
   "id": "26b79d21-7071-4d81-9797-0315dd7c0f90",
   "metadata": {},
   "outputs": [],
   "source": [
    "div_data = await get_dividends_async(figis, pd.Timestamp('2015-01-01'), pd.Timestamp('2024-10-31'), token=TOKEN)"
   ]
  },
  {
   "cell_type": "code",
   "execution_count": 21,
   "id": "a038dc3c-4a9b-4ebc-9c22-8a467c667afd",
   "metadata": {},
   "outputs": [
    {
     "name": "stdout",
     "output_type": "stream",
     "text": [
      "CPU times: user 25.6 s, sys: 743 ms, total: 26.3 s\n",
      "Wall time: 1min 40s\n"
     ]
    }
   ],
   "source": [
    "%%time\n",
    "data = get_prices_sync(figis, pd.Timestamp('2015-01-01'), pd.Timestamp('2024-10-31'), token=TOKEN)"
   ]
  },
  {
   "cell_type": "code",
   "execution_count": 24,
   "id": "e541fb2b-07f8-4f50-928e-d5ae28b8dcb2",
   "metadata": {},
   "outputs": [],
   "source": [
    "data.to_parquet(\"../data/tinvest_ohlc.parquet\", index = False)"
   ]
  },
  {
   "cell_type": "markdown",
   "id": "27a86a0b-5940-472f-a187-7932988d60d8",
   "metadata": {
    "jp-MarkdownHeadingCollapsed": true
   },
   "source": [
    "## assets"
   ]
  },
  {
   "cell_type": "code",
   "execution_count": 63,
   "id": "65a0bb6b-3da5-4a48-806b-2a688d601a32",
   "metadata": {},
   "outputs": [],
   "source": [
    "# asset_df = _dataclasses_to_dict(asset_resp.asset)\n",
    "# for key in asset_df:\n",
    "#     print(key, type(asset_df[key]))"
   ]
  },
  {
   "cell_type": "code",
   "execution_count": 42,
   "id": "0e5006f3-7256-4095-b3ea-474a99c396e5",
   "metadata": {},
   "outputs": [
    {
     "data": {
      "text/plain": [
       "Index(['uid', 'type', 'name', 'name_brief', 'description', 'deleted_at',\n",
       "       'required_tests', 'currency', 'gos_reg_code', 'cfi', 'code_nsd',\n",
       "       'status', 'updated_at', 'br_code', 'br_code_name', 'instruments',\n",
       "       'security.isin', 'security.type', 'security.instrument_kind',\n",
       "       'security.share.type', 'security.share.issue_size',\n",
       "       'security.share.nominal', 'security.share.nominal_currency',\n",
       "       'security.share.primary_index', 'security.share.dividend_rate',\n",
       "       'security.share.preferred_share_type', 'security.share.ipo_date',\n",
       "       'security.share.registry_date', 'security.share.div_yield_flag',\n",
       "       'security.share.issue_kind', 'security.share.placement_date',\n",
       "       'security.share.repres_isin', 'security.share.issue_size_plan',\n",
       "       'security.share.total_float', 'security.bond', 'security.sp',\n",
       "       'security.etf', 'security.clearing_certificate', 'brand.uid',\n",
       "       'brand.name', 'brand.description', 'brand.info', 'brand.company',\n",
       "       'brand.sector', 'brand.country_of_risk', 'brand.country_of_risk_name'],\n",
       "      dtype='object')"
      ]
     },
     "execution_count": 42,
     "metadata": {},
     "output_type": "execute_result"
    }
   ],
   "source": [
    "asset_df.columns"
   ]
  },
  {
   "cell_type": "code",
   "execution_count": 40,
   "id": "f4ce8d14-a8ed-4f78-b1c3-3f01fc0e55f0",
   "metadata": {
    "jupyter": {
     "source_hidden": true
    }
   },
   "outputs": [],
   "source": [
    "enum_cols = ['trading_status', 'share_type', 'real_exchange', 'instrument_exchange']\n",
    "share_cols = [\n",
    "    'figi', 'ticker', 'class_code', 'isin', 'lot', 'currency','short_enabled_flag', 'name', 'exchange', \n",
    "    'ipo_date', 'issue_size', 'country_of_risk', 'country_of_risk_name', 'sector', 'issue_size_plan',\n",
    "    'nominal', 'trading_status', 'otc_flag', 'buy_available_flag', 'sell_available_flag', 'div_yield_flag', \n",
    "    'share_type', 'min_price_increment', 'api_trade_available_flag', 'uid', 'real_exchange', 'position_uid', \n",
    "    'asset_uid', 'instrument_exchange', 'for_iis_flag', 'for_qual_investor_flag', 'weekend_flag', 'blocked_tca_flag', \n",
    "    'liquidity_flag', 'first_1min_candle_date', 'first_1day_candle_date']"
   ]
  },
  {
   "cell_type": "code",
   "execution_count": 10,
   "id": "5c64d0d4-1faf-4d26-a89c-87a542acfaa6",
   "metadata": {},
   "outputs": [
    {
     "data": {
      "text/plain": [
       "[AssetInstrument(uid='44a1e3e8-b813-46dd-b1f8-d0e9d91c06d2', figi='BBG000BVPG41', instrument_type='share', ticker='RTO', class_code='SPBXM', links=[], instrument_kind=<InstrumentType.INSTRUMENT_TYPE_SHARE: 2>, position_uid='72161247-8e86-4df5-a911-d06b92620d82')]"
      ]
     },
     "execution_count": 10,
     "metadata": {},
     "output_type": "execute_result"
    }
   ],
   "source": [
    "asset_arr.assets[0].instruments"
   ]
  },
  {
   "cell_type": "code",
   "execution_count": 32,
   "id": "21f4125a-a9b2-4b97-a59f-952cc0a861e0",
   "metadata": {
    "scrolled": true
   },
   "outputs": [
    {
     "data": {
      "text/plain": [
       "(3424, 11)"
      ]
     },
     "execution_count": 32,
     "metadata": {},
     "output_type": "execute_result"
    }
   ],
   "source": [
    "res = []\n",
    "for asset in _dataclasses_to_dict(assets_resp.assets):\n",
    "    for instrument in asset['instruments']:\n",
    "        tmp = instrument\n",
    "        for col in asset:\n",
    "            if col != 'instruments':\n",
    "                tmp[f\"asset_{col}\"] = asset[col]\n",
    "        res.append(tmp)\n",
    "assets_df = pd.json_normalize(res)\n",
    "assets_df.shape"
   ]
  },
  {
   "cell_type": "code",
   "execution_count": 34,
   "id": "4174b8c9-925b-4894-9b73-1e47770a6b23",
   "metadata": {},
   "outputs": [],
   "source": [
    "assets_df.to_csv(\"../data/assets_info.csv\", index = False)"
   ]
  },
  {
   "cell_type": "code",
   "execution_count": 35,
   "id": "68c9c00e-11f9-4df2-9b6f-dc05b0db6b1f",
   "metadata": {
    "scrolled": true
   },
   "outputs": [
    {
     "data": {
      "text/html": [
       "<div>\n",
       "<style scoped>\n",
       "    .dataframe tbody tr th:only-of-type {\n",
       "        vertical-align: middle;\n",
       "    }\n",
       "\n",
       "    .dataframe tbody tr th {\n",
       "        vertical-align: top;\n",
       "    }\n",
       "\n",
       "    .dataframe thead th {\n",
       "        text-align: right;\n",
       "    }\n",
       "</style>\n",
       "<table border=\"1\" class=\"dataframe\">\n",
       "  <thead>\n",
       "    <tr style=\"text-align: right;\">\n",
       "      <th></th>\n",
       "      <th>uid</th>\n",
       "      <th>figi</th>\n",
       "      <th>instrument_type</th>\n",
       "      <th>ticker</th>\n",
       "      <th>class_code</th>\n",
       "      <th>links</th>\n",
       "      <th>instrument_kind</th>\n",
       "      <th>position_uid</th>\n",
       "      <th>asset_uid</th>\n",
       "      <th>asset_type</th>\n",
       "      <th>asset_name</th>\n",
       "    </tr>\n",
       "  </thead>\n",
       "  <tbody>\n",
       "    <tr>\n",
       "      <th>1</th>\n",
       "      <td>2dfbc1fd-b92a-436e-b011-928c79e805f2</td>\n",
       "      <td>BBG004S68473</td>\n",
       "      <td>share</td>\n",
       "      <td>IRAO</td>\n",
       "      <td>TQBR</td>\n",
       "      <td>[]</td>\n",
       "      <td>2</td>\n",
       "      <td>427f9bcc-2cab-4561-bf94-942d4261fbb7</td>\n",
       "      <td>efee0066-e7ca-4f56-a671-b22135b0e042</td>\n",
       "      <td>4</td>\n",
       "      <td>Акции обыкновенные ПАО \"Интер РАО\"</td>\n",
       "    </tr>\n",
       "    <tr>\n",
       "      <th>21</th>\n",
       "      <td>ba9b6eb4-614c-4be8-bdba-dd86cdfece64</td>\n",
       "      <td>BBG000Q7GG57</td>\n",
       "      <td>share</td>\n",
       "      <td>TGKB</td>\n",
       "      <td>TQBR</td>\n",
       "      <td>[]</td>\n",
       "      <td>2</td>\n",
       "      <td>80a22970-659c-45a5-b0ed-1f842ecd082c</td>\n",
       "      <td>55bb33e5-da31-46bb-8693-d3e9789d9302</td>\n",
       "      <td>4</td>\n",
       "      <td>Акции обыкновенные ПАО \"ТГК-2\"</td>\n",
       "    </tr>\n",
       "    <tr>\n",
       "      <th>24</th>\n",
       "      <td>4563f7a1-8245-4caf-aba5-ac49827ba775</td>\n",
       "      <td>BBG000SK7JS5</td>\n",
       "      <td>share</td>\n",
       "      <td>LNZL</td>\n",
       "      <td>TQBR</td>\n",
       "      <td>[]</td>\n",
       "      <td>2</td>\n",
       "      <td>97ba343f-cf64-4460-9ef4-3ccd8673eac3</td>\n",
       "      <td>c6afcf42-d81f-4c8a-86de-aa302b20f171</td>\n",
       "      <td>4</td>\n",
       "      <td>Акции обыкновенные ПАО \"Лензолото\"</td>\n",
       "    </tr>\n",
       "    <tr>\n",
       "      <th>36</th>\n",
       "      <td>7bedd86b-478d-4742-a28c-29d27f8dbc7d</td>\n",
       "      <td>BBG0100R9963</td>\n",
       "      <td>share</td>\n",
       "      <td>SGZH</td>\n",
       "      <td>TQBR</td>\n",
       "      <td>[]</td>\n",
       "      <td>2</td>\n",
       "      <td>5fe05020-a682-4909-b9f6-93e91413fa93</td>\n",
       "      <td>9f1ce2d9-a6e9-421f-8451-14207ba5830a</td>\n",
       "      <td>4</td>\n",
       "      <td>Акции обыкновенные ПАО \"Сегежа Групп\"</td>\n",
       "    </tr>\n",
       "    <tr>\n",
       "      <th>96</th>\n",
       "      <td>c1a3c440-f51c-4a75-a400-42a2a74f5f2b</td>\n",
       "      <td>BBG004S68FR6</td>\n",
       "      <td>share</td>\n",
       "      <td>MTLRP</td>\n",
       "      <td>TQBR</td>\n",
       "      <td>[]</td>\n",
       "      <td>2</td>\n",
       "      <td>e1eecf7e-95f1-42f7-9a64-a4e43eae7acc</td>\n",
       "      <td>cb1c065d-9d85-4aeb-9e31-41fafb7db8e1</td>\n",
       "      <td>4</td>\n",
       "      <td>Акции привилегированные ПАО \"Мечел\"</td>\n",
       "    </tr>\n",
       "    <tr>\n",
       "      <th>...</th>\n",
       "      <td>...</td>\n",
       "      <td>...</td>\n",
       "      <td>...</td>\n",
       "      <td>...</td>\n",
       "      <td>...</td>\n",
       "      <td>...</td>\n",
       "      <td>...</td>\n",
       "      <td>...</td>\n",
       "      <td>...</td>\n",
       "      <td>...</td>\n",
       "      <td>...</td>\n",
       "    </tr>\n",
       "    <tr>\n",
       "      <th>3334</th>\n",
       "      <td>bc21fb4f-8838-4355-8697-fb0d8fc809c8</td>\n",
       "      <td>BBG000GQSVC2</td>\n",
       "      <td>share</td>\n",
       "      <td>NKNCP</td>\n",
       "      <td>TQBR</td>\n",
       "      <td>[]</td>\n",
       "      <td>2</td>\n",
       "      <td>7b7201cb-fe73-49a8-95d6-bd5edf4b849c</td>\n",
       "      <td>9e876ded-e160-4b33-b8f2-c1d5b08eaef7</td>\n",
       "      <td>4</td>\n",
       "      <td>Акции привилегированные ПАО \"Нижнекамскнефтехим\"</td>\n",
       "    </tr>\n",
       "    <tr>\n",
       "      <th>3351</th>\n",
       "      <td>3879e073-f27a-4e2f-9a97-97475b25194d</td>\n",
       "      <td>BBG0029SG1C1</td>\n",
       "      <td>share</td>\n",
       "      <td>KZOSP</td>\n",
       "      <td>TQBR</td>\n",
       "      <td>[]</td>\n",
       "      <td>2</td>\n",
       "      <td>99a43dec-f6fe-419e-aeaf-5ad4a70d160d</td>\n",
       "      <td>37f51c1f-6a6e-49be-aba1-78b94ae35fa5</td>\n",
       "      <td>4</td>\n",
       "      <td>Акции привилегированные ПАО \"Казаньоргсинтез\"</td>\n",
       "    </tr>\n",
       "    <tr>\n",
       "      <th>3369</th>\n",
       "      <td>a5776620-1e2f-47ea-bbd6-06d8e4a236d8</td>\n",
       "      <td>BBG004S686N0</td>\n",
       "      <td>share</td>\n",
       "      <td>BANEP</td>\n",
       "      <td>TQBR</td>\n",
       "      <td>[]</td>\n",
       "      <td>2</td>\n",
       "      <td>aeaa8f4a-5149-49ed-8b9d-816b739bc882</td>\n",
       "      <td>7280bd17-42d6-41b5-b76c-7e231931483f</td>\n",
       "      <td>4</td>\n",
       "      <td>Акции привилегированные типа А ПАО АНК \"Башнефть\"</td>\n",
       "    </tr>\n",
       "    <tr>\n",
       "      <th>3385</th>\n",
       "      <td>eb4ba863-e85f-4f80-8c29-f2627938ee58</td>\n",
       "      <td>BBG004S68598</td>\n",
       "      <td>share</td>\n",
       "      <td>MTLR</td>\n",
       "      <td>TQBR</td>\n",
       "      <td>[]</td>\n",
       "      <td>2</td>\n",
       "      <td>ad00cb52-0cf5-48b3-81d1-b842493a35ae</td>\n",
       "      <td>b9f09cfa-1099-4691-a981-8b1a4c0c72f3</td>\n",
       "      <td>4</td>\n",
       "      <td>Акции обыкновенные ПАО \"Мечел\"</td>\n",
       "    </tr>\n",
       "    <tr>\n",
       "      <th>3390</th>\n",
       "      <td>8e2b0325-0292-4654-8a18-4f63ed3b0e09</td>\n",
       "      <td>BBG004730ZJ9</td>\n",
       "      <td>share</td>\n",
       "      <td>VTBR</td>\n",
       "      <td>TQBR</td>\n",
       "      <td>[]</td>\n",
       "      <td>2</td>\n",
       "      <td>626d2ab0-3359-4d2d-8366-daedd2a0d000</td>\n",
       "      <td>94f18cc6-9e01-4db6-9d73-8c3ba6ab9655</td>\n",
       "      <td>4</td>\n",
       "      <td>Акции обыкновенные Банк ВТБ (ПАО)</td>\n",
       "    </tr>\n",
       "  </tbody>\n",
       "</table>\n",
       "<p>150 rows × 11 columns</p>\n",
       "</div>"
      ],
      "text/plain": [
       "                                       uid          figi instrument_type  \\\n",
       "1     2dfbc1fd-b92a-436e-b011-928c79e805f2  BBG004S68473           share   \n",
       "21    ba9b6eb4-614c-4be8-bdba-dd86cdfece64  BBG000Q7GG57           share   \n",
       "24    4563f7a1-8245-4caf-aba5-ac49827ba775  BBG000SK7JS5           share   \n",
       "36    7bedd86b-478d-4742-a28c-29d27f8dbc7d  BBG0100R9963           share   \n",
       "96    c1a3c440-f51c-4a75-a400-42a2a74f5f2b  BBG004S68FR6           share   \n",
       "...                                    ...           ...             ...   \n",
       "3334  bc21fb4f-8838-4355-8697-fb0d8fc809c8  BBG000GQSVC2           share   \n",
       "3351  3879e073-f27a-4e2f-9a97-97475b25194d  BBG0029SG1C1           share   \n",
       "3369  a5776620-1e2f-47ea-bbd6-06d8e4a236d8  BBG004S686N0           share   \n",
       "3385  eb4ba863-e85f-4f80-8c29-f2627938ee58  BBG004S68598           share   \n",
       "3390  8e2b0325-0292-4654-8a18-4f63ed3b0e09  BBG004730ZJ9           share   \n",
       "\n",
       "     ticker class_code links  instrument_kind  \\\n",
       "1      IRAO       TQBR    []                2   \n",
       "21     TGKB       TQBR    []                2   \n",
       "24     LNZL       TQBR    []                2   \n",
       "36     SGZH       TQBR    []                2   \n",
       "96    MTLRP       TQBR    []                2   \n",
       "...     ...        ...   ...              ...   \n",
       "3334  NKNCP       TQBR    []                2   \n",
       "3351  KZOSP       TQBR    []                2   \n",
       "3369  BANEP       TQBR    []                2   \n",
       "3385   MTLR       TQBR    []                2   \n",
       "3390   VTBR       TQBR    []                2   \n",
       "\n",
       "                              position_uid  \\\n",
       "1     427f9bcc-2cab-4561-bf94-942d4261fbb7   \n",
       "21    80a22970-659c-45a5-b0ed-1f842ecd082c   \n",
       "24    97ba343f-cf64-4460-9ef4-3ccd8673eac3   \n",
       "36    5fe05020-a682-4909-b9f6-93e91413fa93   \n",
       "96    e1eecf7e-95f1-42f7-9a64-a4e43eae7acc   \n",
       "...                                    ...   \n",
       "3334  7b7201cb-fe73-49a8-95d6-bd5edf4b849c   \n",
       "3351  99a43dec-f6fe-419e-aeaf-5ad4a70d160d   \n",
       "3369  aeaa8f4a-5149-49ed-8b9d-816b739bc882   \n",
       "3385  ad00cb52-0cf5-48b3-81d1-b842493a35ae   \n",
       "3390  626d2ab0-3359-4d2d-8366-daedd2a0d000   \n",
       "\n",
       "                                 asset_uid  asset_type  \\\n",
       "1     efee0066-e7ca-4f56-a671-b22135b0e042           4   \n",
       "21    55bb33e5-da31-46bb-8693-d3e9789d9302           4   \n",
       "24    c6afcf42-d81f-4c8a-86de-aa302b20f171           4   \n",
       "36    9f1ce2d9-a6e9-421f-8451-14207ba5830a           4   \n",
       "96    cb1c065d-9d85-4aeb-9e31-41fafb7db8e1           4   \n",
       "...                                    ...         ...   \n",
       "3334  9e876ded-e160-4b33-b8f2-c1d5b08eaef7           4   \n",
       "3351  37f51c1f-6a6e-49be-aba1-78b94ae35fa5           4   \n",
       "3369  7280bd17-42d6-41b5-b76c-7e231931483f           4   \n",
       "3385  b9f09cfa-1099-4691-a981-8b1a4c0c72f3           4   \n",
       "3390  94f18cc6-9e01-4db6-9d73-8c3ba6ab9655           4   \n",
       "\n",
       "                                             asset_name  \n",
       "1                    Акции обыкновенные ПАО \"Интер РАО\"  \n",
       "21                       Акции обыкновенные ПАО \"ТГК-2\"  \n",
       "24                   Акции обыкновенные ПАО \"Лензолото\"  \n",
       "36                Акции обыкновенные ПАО \"Сегежа Групп\"  \n",
       "96                  Акции привилегированные ПАО \"Мечел\"  \n",
       "...                                                 ...  \n",
       "3334   Акции привилегированные ПАО \"Нижнекамскнефтехим\"  \n",
       "3351      Акции привилегированные ПАО \"Казаньоргсинтез\"  \n",
       "3369  Акции привилегированные типа А ПАО АНК \"Башнефть\"  \n",
       "3385                     Акции обыкновенные ПАО \"Мечел\"  \n",
       "3390                  Акции обыкновенные Банк ВТБ (ПАО)  \n",
       "\n",
       "[150 rows x 11 columns]"
      ]
     },
     "execution_count": 35,
     "metadata": {},
     "output_type": "execute_result"
    }
   ],
   "source": [
    "assets_df.query(\"class_code == 'TQBR'\")"
   ]
  },
  {
   "cell_type": "markdown",
   "id": "41b7495f-62bf-4056-9747-c1cd6ae0c6a3",
   "metadata": {
    "jp-MarkdownHeadingCollapsed": true
   },
   "source": [
    "## shares"
   ]
  },
  {
   "cell_type": "code",
   "execution_count": 19,
   "id": "bbb7e003-0283-4f7b-81a1-aa834c9c56ba",
   "metadata": {},
   "outputs": [],
   "source": [
    "# res = []\n",
    "# for share in shares_arr.instruments:\n",
    "#     tmp = pd.json_normalize(\n",
    "#         _dataclasses_to_dict(share)\n",
    "#     )\n",
    "#     res.append(tmp)\n",
    "shares_df = pd.concat(res)"
   ]
  },
  {
   "cell_type": "code",
   "execution_count": 42,
   "id": "65377cdf-6a91-4d97-b68b-1849b3ad4f5f",
   "metadata": {},
   "outputs": [
    {
     "data": {
      "text/plain": [
       "count                            12072\n",
       "mean     1981-03-07 15:21:08.782306176\n",
       "min                1970-01-01 00:00:00\n",
       "25%                1970-01-01 00:00:00\n",
       "50%                1970-01-01 00:00:00\n",
       "75%                1970-01-01 00:00:00\n",
       "max                2024-10-22 00:00:00\n",
       "Name: first_1min_candle_date, dtype: object"
      ]
     },
     "execution_count": 42,
     "metadata": {},
     "output_type": "execute_result"
    }
   ],
   "source": [
    "shares_df['first_1min_candle_date'].describe()"
   ]
  },
  {
   "cell_type": "code",
   "execution_count": 22,
   "id": "a38976f5-ae0b-48a8-a063-3632fefd2cfb",
   "metadata": {
    "scrolled": true
   },
   "outputs": [],
   "source": [
    "shares_df.to_csv(\"../data/shares_info.csv\", index = False)"
   ]
  },
  {
   "cell_type": "code",
   "execution_count": 50,
   "id": "8ffc0b0c-0ad3-4a27-bf68-7603724a45a8",
   "metadata": {},
   "outputs": [
    {
     "data": {
      "text/plain": [
       "lot\n",
       "1          11638\n",
       "10           217\n",
       "100          131\n",
       "1000          50\n",
       "10000         25\n",
       "100000         9\n",
       "1000000        2\n",
       "Name: count, dtype: int64"
      ]
     },
     "execution_count": 50,
     "metadata": {},
     "output_type": "execute_result"
    }
   ],
   "source": [
    "shares_df['lot'].value_counts()"
   ]
  },
  {
   "cell_type": "code",
   "execution_count": 44,
   "id": "5756c2dc-0e34-4933-a203-a52e75fb6607",
   "metadata": {},
   "outputs": [
    {
     "data": {
      "text/plain": [
       "(12111, 45)"
      ]
     },
     "execution_count": 44,
     "metadata": {},
     "output_type": "execute_result"
    }
   ],
   "source": [
    "shares_df"
   ]
  },
  {
   "cell_type": "code",
   "execution_count": 47,
   "id": "9df3b1e8-0a7a-40e1-b9c1-e6acd091a779",
   "metadata": {
    "scrolled": true
   },
   "outputs": [],
   "source": [
    "short_list = (\n",
    "    shares_df\n",
    "    .query('not for_qual_investor_flag and short_enabled_flag and api_trade_available_flag and real_exchange == 1')\n",
    "    [['figi', 'ticker', 'class_code', 'isin', 'lot', 'currency', 'name', 'exchange', 'asset_uid']]\n",
    ")"
   ]
  },
  {
   "cell_type": "code",
   "execution_count": 48,
   "id": "f14cca39-0d93-41b3-91e1-d2b129c4aa56",
   "metadata": {},
   "outputs": [
    {
     "data": {
      "text/plain": [
       "figi                                  TCS00A106YF0\n",
       "ticker                                        VKCO\n",
       "class_code                                    TQBR\n",
       "isin                                  RU000A106YF0\n",
       "lot                                              1\n",
       "currency                                       rub\n",
       "name                                            ВК\n",
       "exchange                       MOEX_DEALER_WEEKEND\n",
       "asset_uid     f0a6fe09-3981-4501-a8f5-91821935e4d4\n",
       "Name: 582, dtype: object"
      ]
     },
     "execution_count": 48,
     "metadata": {},
     "output_type": "execute_result"
    }
   ],
   "source": [
    "short_list.iloc[0]"
   ]
  },
  {
   "cell_type": "code",
   "execution_count": 45,
   "id": "e8a3789a-329c-43e0-a432-57fefc197a6c",
   "metadata": {
    "scrolled": true
   },
   "outputs": [
    {
     "data": {
      "text/html": [
       "<div>\n",
       "<style scoped>\n",
       "    .dataframe tbody tr th:only-of-type {\n",
       "        vertical-align: middle;\n",
       "    }\n",
       "\n",
       "    .dataframe tbody tr th {\n",
       "        vertical-align: top;\n",
       "    }\n",
       "\n",
       "    .dataframe thead th {\n",
       "        text-align: right;\n",
       "    }\n",
       "</style>\n",
       "<table border=\"1\" class=\"dataframe\">\n",
       "  <thead>\n",
       "    <tr style=\"text-align: right;\">\n",
       "      <th></th>\n",
       "      <th>uid</th>\n",
       "      <th>figi</th>\n",
       "      <th>instrument_type</th>\n",
       "      <th>ticker</th>\n",
       "      <th>class_code</th>\n",
       "      <th>links</th>\n",
       "      <th>instrument_kind</th>\n",
       "      <th>position_uid</th>\n",
       "      <th>asset_uid</th>\n",
       "      <th>asset_type</th>\n",
       "      <th>asset_name</th>\n",
       "    </tr>\n",
       "  </thead>\n",
       "  <tbody>\n",
       "    <tr>\n",
       "      <th>1</th>\n",
       "      <td>2dfbc1fd-b92a-436e-b011-928c79e805f2</td>\n",
       "      <td>BBG004S68473</td>\n",
       "      <td>share</td>\n",
       "      <td>IRAO</td>\n",
       "      <td>TQBR</td>\n",
       "      <td>[]</td>\n",
       "      <td>2</td>\n",
       "      <td>427f9bcc-2cab-4561-bf94-942d4261fbb7</td>\n",
       "      <td>efee0066-e7ca-4f56-a671-b22135b0e042</td>\n",
       "      <td>4</td>\n",
       "      <td>Акции обыкновенные ПАО \"Интер РАО\"</td>\n",
       "    </tr>\n",
       "    <tr>\n",
       "      <th>36</th>\n",
       "      <td>7bedd86b-478d-4742-a28c-29d27f8dbc7d</td>\n",
       "      <td>BBG0100R9963</td>\n",
       "      <td>share</td>\n",
       "      <td>SGZH</td>\n",
       "      <td>TQBR</td>\n",
       "      <td>[]</td>\n",
       "      <td>2</td>\n",
       "      <td>5fe05020-a682-4909-b9f6-93e91413fa93</td>\n",
       "      <td>9f1ce2d9-a6e9-421f-8451-14207ba5830a</td>\n",
       "      <td>4</td>\n",
       "      <td>Акции обыкновенные ПАО \"Сегежа Групп\"</td>\n",
       "    </tr>\n",
       "    <tr>\n",
       "      <th>96</th>\n",
       "      <td>c1a3c440-f51c-4a75-a400-42a2a74f5f2b</td>\n",
       "      <td>BBG004S68FR6</td>\n",
       "      <td>share</td>\n",
       "      <td>MTLRP</td>\n",
       "      <td>TQBR</td>\n",
       "      <td>[]</td>\n",
       "      <td>2</td>\n",
       "      <td>e1eecf7e-95f1-42f7-9a64-a4e43eae7acc</td>\n",
       "      <td>cb1c065d-9d85-4aeb-9e31-41fafb7db8e1</td>\n",
       "      <td>4</td>\n",
       "      <td>Акции привилегированные ПАО \"Мечел\"</td>\n",
       "    </tr>\n",
       "    <tr>\n",
       "      <th>122</th>\n",
       "      <td>46ae47ee-f409-4776-bf20-43a040b9e7fb</td>\n",
       "      <td>BBG007N0Z367</td>\n",
       "      <td>share</td>\n",
       "      <td>AGRO</td>\n",
       "      <td>TQBR</td>\n",
       "      <td>[]</td>\n",
       "      <td>2</td>\n",
       "      <td>f8a4d4f3-92a8-4f09-b77b-127d588ddf04</td>\n",
       "      <td>65479988-3904-4f1b-a15f-8f3ad99b0234</td>\n",
       "      <td>4</td>\n",
       "      <td>Глобальная депозитарная расписка на обыкновенн...</td>\n",
       "    </tr>\n",
       "    <tr>\n",
       "      <th>235</th>\n",
       "      <td>e2bd2eba-75de-4127-b39c-2f2dbe3866c3</td>\n",
       "      <td>BBG000RMWQD4</td>\n",
       "      <td>share</td>\n",
       "      <td>ENPG</td>\n",
       "      <td>TQBR</td>\n",
       "      <td>[]</td>\n",
       "      <td>2</td>\n",
       "      <td>62dae90c-238b-433d-ae4e-47c72b324bc7</td>\n",
       "      <td>9b9cb779-d2c7-4e49-a6c3-5be1e08d9439</td>\n",
       "      <td>4</td>\n",
       "      <td>Акции обыкновенные МКПАО \"ЭН+ ГРУП\"</td>\n",
       "    </tr>\n",
       "    <tr>\n",
       "      <th>...</th>\n",
       "      <td>...</td>\n",
       "      <td>...</td>\n",
       "      <td>...</td>\n",
       "      <td>...</td>\n",
       "      <td>...</td>\n",
       "      <td>...</td>\n",
       "      <td>...</td>\n",
       "      <td>...</td>\n",
       "      <td>...</td>\n",
       "      <td>...</td>\n",
       "      <td>...</td>\n",
       "    </tr>\n",
       "    <tr>\n",
       "      <th>3167</th>\n",
       "      <td>1ffe1bff-d7b7-4b04-b482-34dc9cc0a4ba</td>\n",
       "      <td>BBG0047315D0</td>\n",
       "      <td>share</td>\n",
       "      <td>SNGS</td>\n",
       "      <td>TQBR</td>\n",
       "      <td>[]</td>\n",
       "      <td>2</td>\n",
       "      <td>87a7f6b3-f42d-423e-b213-1a013ea30ef3</td>\n",
       "      <td>56195dde-fd1a-4026-b8e0-42dbda342c7c</td>\n",
       "      <td>4</td>\n",
       "      <td>Акции обыкновенные ПАО \"Сургутнефтегаз\"</td>\n",
       "    </tr>\n",
       "    <tr>\n",
       "      <th>3267</th>\n",
       "      <td>435107a9-a262-4a31-8a9b-2ee6f81c1184</td>\n",
       "      <td>BBG004S68696</td>\n",
       "      <td>share</td>\n",
       "      <td>RASP</td>\n",
       "      <td>TQBR</td>\n",
       "      <td>[]</td>\n",
       "      <td>2</td>\n",
       "      <td>43455146-4592-45e0-b277-864173a529ec</td>\n",
       "      <td>df9a9da8-0a95-41ca-9d03-82de3fcf872c</td>\n",
       "      <td>4</td>\n",
       "      <td>Акции обыкновенные ПАО \"Распадская\"</td>\n",
       "    </tr>\n",
       "    <tr>\n",
       "      <th>3369</th>\n",
       "      <td>a5776620-1e2f-47ea-bbd6-06d8e4a236d8</td>\n",
       "      <td>BBG004S686N0</td>\n",
       "      <td>share</td>\n",
       "      <td>BANEP</td>\n",
       "      <td>TQBR</td>\n",
       "      <td>[]</td>\n",
       "      <td>2</td>\n",
       "      <td>aeaa8f4a-5149-49ed-8b9d-816b739bc882</td>\n",
       "      <td>7280bd17-42d6-41b5-b76c-7e231931483f</td>\n",
       "      <td>4</td>\n",
       "      <td>Акции привилегированные типа А ПАО АНК \"Башнефть\"</td>\n",
       "    </tr>\n",
       "    <tr>\n",
       "      <th>3385</th>\n",
       "      <td>eb4ba863-e85f-4f80-8c29-f2627938ee58</td>\n",
       "      <td>BBG004S68598</td>\n",
       "      <td>share</td>\n",
       "      <td>MTLR</td>\n",
       "      <td>TQBR</td>\n",
       "      <td>[]</td>\n",
       "      <td>2</td>\n",
       "      <td>ad00cb52-0cf5-48b3-81d1-b842493a35ae</td>\n",
       "      <td>b9f09cfa-1099-4691-a981-8b1a4c0c72f3</td>\n",
       "      <td>4</td>\n",
       "      <td>Акции обыкновенные ПАО \"Мечел\"</td>\n",
       "    </tr>\n",
       "    <tr>\n",
       "      <th>3390</th>\n",
       "      <td>8e2b0325-0292-4654-8a18-4f63ed3b0e09</td>\n",
       "      <td>BBG004730ZJ9</td>\n",
       "      <td>share</td>\n",
       "      <td>VTBR</td>\n",
       "      <td>TQBR</td>\n",
       "      <td>[]</td>\n",
       "      <td>2</td>\n",
       "      <td>626d2ab0-3359-4d2d-8366-daedd2a0d000</td>\n",
       "      <td>94f18cc6-9e01-4db6-9d73-8c3ba6ab9655</td>\n",
       "      <td>4</td>\n",
       "      <td>Акции обыкновенные Банк ВТБ (ПАО)</td>\n",
       "    </tr>\n",
       "  </tbody>\n",
       "</table>\n",
       "<p>83 rows × 11 columns</p>\n",
       "</div>"
      ],
      "text/plain": [
       "                                       uid          figi instrument_type  \\\n",
       "1     2dfbc1fd-b92a-436e-b011-928c79e805f2  BBG004S68473           share   \n",
       "36    7bedd86b-478d-4742-a28c-29d27f8dbc7d  BBG0100R9963           share   \n",
       "96    c1a3c440-f51c-4a75-a400-42a2a74f5f2b  BBG004S68FR6           share   \n",
       "122   46ae47ee-f409-4776-bf20-43a040b9e7fb  BBG007N0Z367           share   \n",
       "235   e2bd2eba-75de-4127-b39c-2f2dbe3866c3  BBG000RMWQD4           share   \n",
       "...                                    ...           ...             ...   \n",
       "3167  1ffe1bff-d7b7-4b04-b482-34dc9cc0a4ba  BBG0047315D0           share   \n",
       "3267  435107a9-a262-4a31-8a9b-2ee6f81c1184  BBG004S68696           share   \n",
       "3369  a5776620-1e2f-47ea-bbd6-06d8e4a236d8  BBG004S686N0           share   \n",
       "3385  eb4ba863-e85f-4f80-8c29-f2627938ee58  BBG004S68598           share   \n",
       "3390  8e2b0325-0292-4654-8a18-4f63ed3b0e09  BBG004730ZJ9           share   \n",
       "\n",
       "     ticker class_code links  instrument_kind  \\\n",
       "1      IRAO       TQBR    []                2   \n",
       "36     SGZH       TQBR    []                2   \n",
       "96    MTLRP       TQBR    []                2   \n",
       "122    AGRO       TQBR    []                2   \n",
       "235    ENPG       TQBR    []                2   \n",
       "...     ...        ...   ...              ...   \n",
       "3167   SNGS       TQBR    []                2   \n",
       "3267   RASP       TQBR    []                2   \n",
       "3369  BANEP       TQBR    []                2   \n",
       "3385   MTLR       TQBR    []                2   \n",
       "3390   VTBR       TQBR    []                2   \n",
       "\n",
       "                              position_uid  \\\n",
       "1     427f9bcc-2cab-4561-bf94-942d4261fbb7   \n",
       "36    5fe05020-a682-4909-b9f6-93e91413fa93   \n",
       "96    e1eecf7e-95f1-42f7-9a64-a4e43eae7acc   \n",
       "122   f8a4d4f3-92a8-4f09-b77b-127d588ddf04   \n",
       "235   62dae90c-238b-433d-ae4e-47c72b324bc7   \n",
       "...                                    ...   \n",
       "3167  87a7f6b3-f42d-423e-b213-1a013ea30ef3   \n",
       "3267  43455146-4592-45e0-b277-864173a529ec   \n",
       "3369  aeaa8f4a-5149-49ed-8b9d-816b739bc882   \n",
       "3385  ad00cb52-0cf5-48b3-81d1-b842493a35ae   \n",
       "3390  626d2ab0-3359-4d2d-8366-daedd2a0d000   \n",
       "\n",
       "                                 asset_uid  asset_type  \\\n",
       "1     efee0066-e7ca-4f56-a671-b22135b0e042           4   \n",
       "36    9f1ce2d9-a6e9-421f-8451-14207ba5830a           4   \n",
       "96    cb1c065d-9d85-4aeb-9e31-41fafb7db8e1           4   \n",
       "122   65479988-3904-4f1b-a15f-8f3ad99b0234           4   \n",
       "235   9b9cb779-d2c7-4e49-a6c3-5be1e08d9439           4   \n",
       "...                                    ...         ...   \n",
       "3167  56195dde-fd1a-4026-b8e0-42dbda342c7c           4   \n",
       "3267  df9a9da8-0a95-41ca-9d03-82de3fcf872c           4   \n",
       "3369  7280bd17-42d6-41b5-b76c-7e231931483f           4   \n",
       "3385  b9f09cfa-1099-4691-a981-8b1a4c0c72f3           4   \n",
       "3390  94f18cc6-9e01-4db6-9d73-8c3ba6ab9655           4   \n",
       "\n",
       "                                             asset_name  \n",
       "1                    Акции обыкновенные ПАО \"Интер РАО\"  \n",
       "36                Акции обыкновенные ПАО \"Сегежа Групп\"  \n",
       "96                  Акции привилегированные ПАО \"Мечел\"  \n",
       "122   Глобальная депозитарная расписка на обыкновенн...  \n",
       "235                 Акции обыкновенные МКПАО \"ЭН+ ГРУП\"  \n",
       "...                                                 ...  \n",
       "3167            Акции обыкновенные ПАО \"Сургутнефтегаз\"  \n",
       "3267                Акции обыкновенные ПАО \"Распадская\"  \n",
       "3369  Акции привилегированные типа А ПАО АНК \"Башнефть\"  \n",
       "3385                     Акции обыкновенные ПАО \"Мечел\"  \n",
       "3390                  Акции обыкновенные Банк ВТБ (ПАО)  \n",
       "\n",
       "[83 rows x 11 columns]"
      ]
     },
     "execution_count": 45,
     "metadata": {},
     "output_type": "execute_result"
    }
   ],
   "source": [
    "assets_df[assets_df['uid'].isin(short_list['uid'])]"
   ]
  },
  {
   "cell_type": "code",
   "execution_count": 61,
   "id": "daace263-8ec8-435b-bf67-262016ad0c90",
   "metadata": {},
   "outputs": [],
   "source": [
    "short_list['figi'].to_csv('../figi.txt', index = False, header=False)"
   ]
  },
  {
   "cell_type": "markdown",
   "id": "bc74fc3b-41e7-4ddc-8c15-71785ffed669",
   "metadata": {},
   "source": [
    "## moex"
   ]
  },
  {
   "cell_type": "code",
   "execution_count": 4,
   "id": "8c68a318-01ec-4955-9375-3b48098d8d60",
   "metadata": {},
   "outputs": [],
   "source": [
    "from src.moex_api import get_market_candles\n",
    "import httpx\n",
    "import asyncio"
   ]
  },
  {
   "cell_type": "code",
   "execution_count": 13,
   "id": "c54bba0a-3f5c-4f69-90cc-b6c7a41a81b9",
   "metadata": {
    "scrolled": true
   },
   "outputs": [],
   "source": [
    "# %%time\n",
    "start = pd.Timestamp('2016-01-01')\n",
    "end = pd.Timestamp('2022-01-01')\n",
    "secids = None\n",
    "async with httpx.AsyncClient(timeout=httpx.Timeout(timeout=None)) as session:\n",
    "    async def process_candles(secid):\n",
    "        ohlc_tmp = await get_market_candles(session, security = secid, start = start, end = end)\n",
    "        ohlc_tmp = pd.DataFrame(ohlc_tmp)\n",
    "        ohlc_tmp['secid'] = secid\n",
    "        return ohlc_tmp\n",
    "    request_url = \"https://iss.moex.com/iss/engines/stock/markets/shares/boards/TQBR/securities.json\"\n",
    "    moex_info_resp = (await session.get(request_url)).raise_for_status().json()\n",
    "    moex_info_df = pd.DataFrame(moex_info_resp[\"securities\"]['data'], \n",
    "                                columns = moex_info_resp[\"securities\"]['columns'])\n",
    "    moex_info_df.columns = moex_info_df.columns.str.lower()\n",
    "    if secids is None:\n",
    "        secids = moex_info_df['secid']\n",
    "    tasks = [process_candles(secid) for secid in secids]\n",
    "    ohlc_data = await asyncio.gather(*tasks)\n",
    "moex_candles = pd.concat(ohlc_data, axis = 0)"
   ]
  },
  {
   "cell_type": "code",
   "execution_count": 15,
   "id": "6c896114-d3a6-4966-abc6-ae7b7a0b14e9",
   "metadata": {
    "scrolled": true
   },
   "outputs": [
    {
     "name": "stdout",
     "output_type": "stream",
     "text": [
      "<class 'pandas.core.frame.DataFrame'>\n",
      "Index: 277892 entries, 0 to 1437\n",
      "Data columns (total 9 columns):\n",
      " #   Column  Non-Null Count   Dtype  \n",
      "---  ------  --------------   -----  \n",
      " 0   open    277892 non-null  float64\n",
      " 1   close   277892 non-null  float64\n",
      " 2   high    277892 non-null  float64\n",
      " 3   low     277892 non-null  float64\n",
      " 4   value   277892 non-null  float64\n",
      " 5   volume  277892 non-null  float64\n",
      " 6   begin   277892 non-null  object \n",
      " 7   end     277892 non-null  object \n",
      " 8   secid   277892 non-null  object \n",
      "dtypes: float64(6), object(3)\n",
      "memory usage: 21.2+ MB\n"
     ]
    }
   ],
   "source": [
    "moex_candles.info()"
   ]
  },
  {
   "cell_type": "code",
   "execution_count": 11,
   "id": "111e7f55-df25-422e-a3bf-95c965a96dea",
   "metadata": {
    "scrolled": true
   },
   "outputs": [],
   "source": [
    "# async with httpx.AsyncClient() as session:\n",
    "#     ohlc_data = []\n",
    "#     async for secid in moex_info_df['secid']:\n",
    "#         print(secid)\n",
    "#         ohlc_tmp = await get_market_candles(session, security = secid, start = start, end = end)\n",
    "#         ohlc_tmp = pd.DataFrame(ohlc_tmp)\n",
    "#         ohlc_tmp['secid'] = secid\n",
    "#         ohlc_data.append(ohlc_tmp)\n",
    "moex_candles = pd.concat(ohlc_data, axis = 0)"
   ]
  },
  {
   "cell_type": "code",
   "execution_count": 17,
   "id": "bafcf265-1a0d-4138-9092-df0bf5ca69bf",
   "metadata": {},
   "outputs": [
    {
     "data": {
      "text/plain": [
       "Timestamp('2024-11-08 00:00:00')"
      ]
     },
     "execution_count": 17,
     "metadata": {},
     "output_type": "execute_result"
    }
   ],
   "source": [
    "pd.Timestamp.today().normalize()"
   ]
  },
  {
   "cell_type": "code",
   "execution_count": 15,
   "id": "2e518e84-ad06-47cc-95e3-830b777408a5",
   "metadata": {},
   "outputs": [
    {
     "data": {
      "text/plain": [
       "Index(['open', 'close', 'high', 'low', 'value', 'volume', 'begin', 'end',\n",
       "       'secid'],\n",
       "      dtype='object')"
      ]
     },
     "execution_count": 15,
     "metadata": {},
     "output_type": "execute_result"
    }
   ],
   "source": [
    "# tmp = pd.read_parquet(\"../data/tinvest_ohlc.parquet\")\n",
    "tmp = pd.read_csv(\"../data/moex_tqbr_ohlc.csv\")\n",
    "tmp.columns"
   ]
  }
 ],
 "metadata": {
  "kernelspec": {
   "display_name": "Python 3 (ipykernel)",
   "language": "python",
   "name": "python3"
  },
  "language_info": {
   "codemirror_mode": {
    "name": "ipython",
    "version": 3
   },
   "file_extension": ".py",
   "mimetype": "text/x-python",
   "name": "python",
   "nbconvert_exporter": "python",
   "pygments_lexer": "ipython3",
   "version": "3.10.13"
  }
 },
 "nbformat": 4,
 "nbformat_minor": 5
}
